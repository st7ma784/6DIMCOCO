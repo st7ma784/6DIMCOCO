{
 "cells": [
  {
   "cell_type": "code",
   "execution_count": null,
   "metadata": {},
   "outputs": [],
   "source": []
  },
  {
   "attachments": {},
   "cell_type": "markdown",
   "metadata": {},
   "source": [
    "Notebook for reading results from base-v-1.0.0 and plotting them\n",
    "\n",
    "## 1. Read results\n"
   ]
  },
  {
   "cell_type": "code",
   "execution_count": 2,
   "metadata": {},
   "outputs": [
    {
     "name": "stdout",
     "output_type": "stream",
     "text": [
      "{2: {0: {}, 1: {}, 2: {}, 3: {}, 4: {}, 5: {'loss': tensor(-0.), 'score': tensor(0.9231, dtype=torch.float64)}, 6: {}, 7: {}, 8: {}, 9: {}, 10: {}, 11: {}, 12: {}, 13: {}, 14: {}, 15: {}, 16: {}, 'stock': {'loss': tensor(150545.6250), 'score': tensor(0.9203, dtype=torch.float64)}}, 3: {0: {}, 1: {}, 2: {}, 3: {}, 4: {}, 5: {'loss': tensor(-0.), 'score': tensor(0.9244, dtype=torch.float64)}, 6: {}, 7: {}, 8: {}, 9: {}, 10: {}, 11: {}, 12: {}, 13: {}, 14: {}, 15: {}, 16: {}, 'stock': {'loss': tensor(537816.3125), 'score': tensor(0.9167, dtype=torch.float64)}}, 4: {0: {}, 1: {}, 2: {}, 3: {}, 4: {}, 5: {'loss': tensor(-0.), 'score': tensor(0.9107, dtype=torch.float64)}, 6: {}, 7: {}, 8: {}, 9: {}, 10: {}, 11: {}, 12: {}, 13: {}, 14: {}, 15: {}, 16: {}, 'stock': {'loss': tensor(669783.8750), 'score': tensor(0.9266, dtype=torch.float64)}}, 5: {0: {}, 1: {}, 2: {}, 3: {}, 4: {}, 5: {'loss': tensor(-0.), 'score': tensor(0.9213, dtype=torch.float64)}, 6: {}, 7: {}, 8: {}, 9: {}, 10: {}, 11: {}, 12: {}, 13: {}, 14: {}, 15: {}, 16: {}, 'stock': {'loss': tensor(976228.1875), 'score': tensor(0.9235, dtype=torch.float64)}}, 6: {0: {}, 1: {}, 2: {}, 3: {}, 4: {}, 5: {'loss': tensor(-0.), 'score': tensor(0.9211, dtype=torch.float64)}, 6: {}, 7: {}, 8: {}, 9: {}, 10: {}, 11: {}, 12: {}, 13: {}, 14: {}, 15: {}, 16: {}, 'stock': {'loss': tensor(1261315.7500), 'score': tensor(0.9114, dtype=torch.float64)}}, 7: {0: {}, 1: {}, 2: {}, 3: {}, 4: {}, 5: {'loss': tensor(-0.), 'score': tensor(0.9155, dtype=torch.float64)}, 6: {}, 7: {}, 8: {}, 9: {}, 10: {}, 11: {}, 12: {}, 13: {}, 14: {}, 15: {}, 16: {}, 'stock': {'loss': tensor(1376509.8750), 'score': tensor(0.9077, dtype=torch.float64)}}, 8: {0: {}, 1: {}, 2: {}, 3: {}, 4: {}, 5: {'loss': tensor(-0.), 'score': tensor(0.9140, dtype=torch.float64)}, 6: {}, 7: {}, 8: {}, 9: {}, 10: {}, 11: {}, 12: {}, 13: {}, 14: {}, 15: {}, 16: {}, 'stock': {'loss': tensor(1490192.7500), 'score': tensor(0.9237, dtype=torch.float64)}}, 9: {0: {}, 1: {}, 2: {}, 3: {}, 4: {}, 5: {'loss': tensor(-0.), 'score': tensor(0.9107, dtype=torch.float64)}, 6: {}, 7: {}, 8: {}, 9: {}, 10: {}, 11: {}, 12: {}, 13: {}, 14: {}, 15: {}, 16: {}, 'stock': {'loss': tensor(1249273.), 'score': tensor(0.8941, dtype=torch.float64)}}}\n"
     ]
    }
   ],
   "source": [
    "import numpy as np\n",
    "import matplotlib.pyplot as plt\n",
    "import matplotlib\n",
    "import torch\n",
    "import pickle\n",
    "with open(\"base-v-.pkl\",\"rb\") as f:\n",
    "    base=pickle.load(f)\n",
    "#pickle.load(\"base-v-5.pkl\")\n",
    "stockscores=[]\n",
    "scores=[]\n",
    "for n in base:\n",
    "   \n",
    "    scores.append(base[n][5])\n",
    "    stockscores.append(base[n][\"stock\"])\n",
    "\n",
    "\n",
    "\n",
    "scoresv5=np.array([s[\"score\"].item() for s in scores])\n",
    "scoresstock=np.array([s[\"score\"].item() for s in stockscores])\n",
    "#plot n against score for both "
   ]
  }
 ],
 "metadata": {
  "kernelspec": {
   "display_name": "open-ce",
   "language": "python",
   "name": "python3"
  },
  "language_info": {
   "codemirror_mode": {
    "name": "ipython",
    "version": 3
   },
   "file_extension": ".py",
   "mimetype": "text/x-python",
   "name": "python",
   "nbconvert_exporter": "python",
   "pygments_lexer": "ipython3",
   "version": "3.9.16"
  },
  "orig_nbformat": 4
 },
 "nbformat": 4,
 "nbformat_minor": 2
}
