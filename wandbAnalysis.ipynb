{
 "cells": [
  {
   "cell_type": "code",
   "execution_count": null,
   "metadata": {},
   "outputs": [],
   "source": []
  },
  {
   "attachments": {},
   "cell_type": "markdown",
   "metadata": {},
   "source": [
    "This notebook analyzes the results of the wandb sweeps. It is used to generate the plots in the paper.\n",
    "\n",
    "## Imports\n"
   ]
  },
  {
   "cell_type": "code",
   "execution_count": 4,
   "metadata": {},
   "outputs": [
    {
     "name": "stderr",
     "output_type": "stream",
     "text": [
      "/tmp/ipykernel_15481/1682936157.py:56: FutureWarning: In future versions `DataFrame.to_latex` is expected to utilise the base implementation of `Styler.to_latex` for formatting and rendering. The arguments signature may therefore change. It is recommended instead to use `DataFrame.style.to_latex` which also contains additional functionality.\n",
      "  runs_df.to_latex()\n"
     ]
    },
    {
     "data": {
      "text/plain": [
       "\"\\\\begin{tabular}{llll}\\n\\\\toprule\\n{} &                                            summary &                                             config &                 name \\\\\\\\\\n\\\\midrule\\n0  &  \\\\{'\\\\_runtime': 756.5586478710175, 'first logit':... &  \\\\{'JSE': 0, 'dir': '/data', 'dims': 3, 'debug':... &  hopeful-capybara-25 \\\\\\\\\\n1  &  \\\\{'\\\\_timestamp': 1702423286.4557033, 'first logi... &  \\\\{'JSE': 0, 'dir': '/data', 'dims': 3, 'debug':... &      solar-planet-24 \\\\\\\\\\n2  &                        \\\\{'\\\\_wandb': \\\\{'runtime': 63\\\\}\\\\} &  \\\\{'JSE': 0, 'dir': '/data', 'dims': 3, 'debug':... &     apricot-field-23 \\\\\\\\\\n3  &  \\\\{'\\\\_timestamp': 1702395433.0693748, '\\\\_step': 1,... &  \\\\{'JSE': 0, 'dir': '/data', 'dims': 3, 'debug':... &       zany-planet-22 \\\\\\\\\\n4  &  \\\\{'\\\\_step': 1, '\\\\_wandb': \\\\{'runtime': 77\\\\}, '\\\\_runt... &  \\\\{'JSE': 0, 'dir': '/data', 'dims': 3, 'debug':... &       snowy-shape-21 \\\\\\\\\\n5  &  \\\\{'\\\\_step': 1, '\\\\_wandb': \\\\{'runtime': 77\\\\}, '\\\\_runt... &  \\\\{'JSE': 0, 'dir': '/data', 'dims': 3, 'debug':... &     olive-thunder-20 \\\\\\\\\\n6  &  \\\\{'TProbe': 0.5182401547116737, '\\\\_runtime': 342... &  \\\\{'JSE': 0, 'dir': '/data', 'dims': 3, 'debug':... &        whole-wave-19 \\\\\\\\\\n7  &  \\\\{'\\\\_runtime': 71.7052550315857, '\\\\_timestamp': 1... &  \\\\{'JSE': 0, 'dir': '/data', 'dims': 3, 'debug':... &     tough-morning-18 \\\\\\\\\\n8  &  \\\\{'\\\\_step': 1, '\\\\_wandb': \\\\{'runtime': 74\\\\}, '\\\\_runt... &  \\\\{'JSE': 0, 'dir': '/data', 'dims': 3, 'debug':... &  leafy-wildflower-17 \\\\\\\\\\n9  &  \\\\{'\\\\_wandb': \\\\{'runtime': 31035\\\\}, 'ImProbe': 0.18... &  \\\\{'JSE': 0, 'dir': '/data', 'dims': 3, 'debug':... &        dark-dream-16 \\\\\\\\\\n10 &                        \\\\{'\\\\_wandb': \\\\{'runtime': 60\\\\}\\\\} &  \\\\{'JSE': 0, 'dir': '/data', 'dims': 3, 'debug':... &      fiery-sponge-15 \\\\\\\\\\n11 &                        \\\\{'\\\\_wandb': \\\\{'runtime': 61\\\\}\\\\} &  \\\\{'JSE': 0, 'dir': '/data', 'dims': 3, 'debug':... &        expert-sky-14 \\\\\\\\\\n12 &  \\\\{'\\\\_step': 1, '\\\\_wandb': \\\\{'runtime': 74\\\\}, '\\\\_runt... &  \\\\{'JSE': 0, 'dir': '/data', 'dims': 3, 'debug':... &      magic-deluge-13 \\\\\\\\\\n13 &                        \\\\{'\\\\_wandb': \\\\{'runtime': 59\\\\}\\\\} &  \\\\{'JSE': 0, 'dir': '/data', 'dims': 3, 'debug':... &     wild-universe-12 \\\\\\\\\\n14 &  \\\\{'\\\\_wandb': \\\\{'runtime': 84\\\\}, '\\\\_runtime': 84.370... &  \\\\{'JSE': 0, 'dir': '/data', 'dims': 3, 'debug':... &          glad-bee-11 \\\\\\\\\\n15 &                        \\\\{'\\\\_wandb': \\\\{'runtime': 62\\\\}\\\\} &  \\\\{'JSE': 0, 'dir': '/data', 'dims': 3, 'debug':... &     eternal-dream-10 \\\\\\\\\\n16 &                        \\\\{'\\\\_wandb': \\\\{'runtime': 62\\\\}\\\\} &  \\\\{'JSE': 0, 'dir': '/data', 'dims': 3, 'debug':... &      ruby-darkness-9 \\\\\\\\\\n17 &                        \\\\{'\\\\_wandb': \\\\{'runtime': 61\\\\}\\\\} &  \\\\{'JSE': 0, 'dir': '/data', 'dims': 3, 'debug':... &    fiery-waterfall-8 \\\\\\\\\\n18 &  \\\\{'BAD logit': -499.2536315917969, 'ImProbe': 0... &  \\\\{'JSE': 0, 'dir': '/data', 'dims': 3, 'debug':... &  valiant-firebrand-7 \\\\\\\\\\n19 &  \\\\{'\\\\_timestamp': 1701834850.5953698, 'Mean Proje... &  \\\\{'JSE': 0, 'dir': '/data', 'dims': 3, 'debug':... &        lunar-grass-6 \\\\\\\\\\n20 &  \\\\{'\\\\_timestamp': 1701803869.3106573, 'train\\\\_loss... &  \\\\{'JSE': 0, 'dir': '/data', 'dims': 3, 'debug':... &         lunar-surf-5 \\\\\\\\\\n21 &                         \\\\{'\\\\_wandb': \\\\{'runtime': 6\\\\}\\\\} &                                                 \\\\{\\\\} &    dainty-snowball-4 \\\\\\\\\\n22 &  \\\\{'\\\\_step': 1, '\\\\_wandb': \\\\{'runtime': 85\\\\}, '\\\\_runt... &  \\\\{'JSE': 0, 'dir': '/data', 'dims': 3, 'debug':... &    dainty-universe-3 \\\\\\\\\\n23 &  \\\\{'\\\\_step': 1, '\\\\_wandb': \\\\{'runtime': 72\\\\}, '\\\\_runt... &  \\\\{'JSE': 0, 'dir': '/data', 'dims': 3, 'debug':... &    dauntless-frost-2 \\\\\\\\\\n24 &  \\\\{'\\\\_timestamp': 1701791250.7917483, 'first logi... &  \\\\{'JSE': 0, 'dir': '/data', 'dims': 3, 'debug':... &     devoted-donkey-1 \\\\\\\\\\n\\\\bottomrule\\n\\\\end{tabular}\\n\""
      ]
     },
     "execution_count": 4,
     "metadata": {},
     "output_type": "execute_result"
    }
   ],
   "source": [
    "import wandb\n",
    "import pandas as pd\n",
    "import numpy as np\n",
    "import matplotlib.pyplot as plt\n",
    "import seaborn as sns\n",
    "import torch\n",
    "\n",
    "# wandb.init(project=\"6DimCachespliteinSweep\", entity=\"st7ma784\")\n",
    "entity, project = \"st7ma784\", \"6DIMCLIPTOKSweepvfinal3.0DIM\"  # set to your entity and project \n",
    "\n",
    "api = wandb.Api()\n",
    "runs = api.runs(entity + \"/\" + project) \n",
    "\n",
    "# runs = runs.filter(\"config.learning_rate = 0.0005\")\n",
    "# runs = runs.filter(\"config.batch_size = 10\")\n",
    "# runs = runs.filter(\"config.precision = 32\")\n",
    "# runs = runs.filter(\"config.maskLosses = 0\")\n",
    "# runs = runs.filter(\"config.embed_dim = 512\")\n",
    "# runs = runs.filter(\"config.transformer_width = 512\")\n",
    "# runs = runs.filter(\"config.transformer_heads = 16\")\n",
    "# runs = runs.filter(\"config.transformer_layers = 24\")\n",
    "# runs = runs.filter(\"config.prune = False\")\n",
    "# runs = runs.filter(\"config.meanloss = True\")\n",
    "\n",
    "# runs = runs.filter(\"config.logitsversion = 0\")\n",
    "# runs = runs.filter(\"config.projection = ''\")\n",
    "\n",
    "# runs = runs.filter(\"state = finished\")\n",
    "# print(\"found\",len(runs),\"runs\")\n",
    "\n",
    "\n",
    "\n",
    "summary_list, config_list, name_list = [], [], []\n",
    "for run in runs: \n",
    "    # .summary contains the output keys/values for metrics like accuracy.\n",
    "    #  We call ._json_dict to omit large files \n",
    "    \n",
    "    summary_list.append(run.summary._json_dict)\n",
    "\n",
    "    # .config contains the hyperparameters.\n",
    "    #  We remove special values that start with _.\n",
    "    config_list.append(\n",
    "        {k: v for k,v in run.config.items()\n",
    "         if not k.startswith('_')})\n",
    "\n",
    "    # .name is the human-readable name of the run.\n",
    "    name_list.append(run.name)\n",
    "\n",
    "runs_df = pd.DataFrame({\n",
    "    \"summary\": summary_list,\n",
    "    \"config\": config_list,\n",
    "    \"name\": name_list\n",
    "    })\n",
    "#show the dataframe\n",
    "\n",
    "print(runs_df.to_latex())\n",
    "\n"
   ]
  }
 ],
 "metadata": {
  "kernelspec": {
   "display_name": "open-ce",
   "language": "python",
   "name": "python3"
  },
  "language_info": {
   "codemirror_mode": {
    "name": "ipython",
    "version": 3
   },
   "file_extension": ".py",
   "mimetype": "text/x-python",
   "name": "python",
   "nbconvert_exporter": "python",
   "pygments_lexer": "ipython3",
   "version": "3.9.16"
  },
  "orig_nbformat": 4
 },
 "nbformat": 4,
 "nbformat_minor": 2
}
