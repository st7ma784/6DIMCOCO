{
 "cells": [
  {
   "cell_type": "code",
   "execution_count": null,
   "metadata": {},
   "outputs": [],
   "source": []
  },
  {
   "attachments": {},
   "cell_type": "markdown",
   "metadata": {},
   "source": [
    "This notebook analyzes the results of the wandb sweeps. It is used to generate the plots in the paper.\n",
    "\n",
    "## Imports\n"
   ]
  },
  {
   "cell_type": "code",
   "execution_count": null,
   "metadata": {},
   "outputs": [],
   "source": [
    "import wandb\n",
    "import pandas as pd\n",
    "import numpy as np\n",
    "import matplotlib.pyplot as plt\n",
    "import seaborn as sns\n",
    "import torch\n",
    "\n",
    "wandb.init(project=\"6DimCachespliteinSweep\", entity=\"st7ma784\")\n",
    "\n",
    "api = wandb.Api()\n",
    "runs = api.runs(\"st7ma784/6DimCachespliteinSweep\")\n",
    "\n",
    "runs = runs.filter(\"config.learning_rate = 0.0005\")\n",
    "runs = runs.filter(\"config.batch_size = 10\")\n",
    "runs = runs.filter(\"config.precision = 32\")\n",
    "runs = runs.filter(\"config.maskLosses = 0\")\n",
    "runs = runs.filter(\"config.embed_dim = 512\")\n",
    "runs = runs.filter(\"config.transformer_width = 512\")\n",
    "runs = runs.filter(\"config.transformer_heads = 16\")\n",
    "runs = runs.filter(\"config.transformer_layers = 24\")\n",
    "runs = runs.filter(\"config.prune = False\")\n",
    "runs = runs.filter(\"config.meanloss = True\")\n",
    "\n",
    "runs = runs.filter(\"config.logitsversion = 0\")\n",
    "runs = runs.filter(\"config.projection = ''\")\n",
    "\n",
    "runs = runs.filter(\"state = finished\")\n",
    "print(\"found\",len(runs),\"runs\")\n"
   ]
  }
 ],
 "metadata": {
  "language_info": {
   "name": "python"
  },
  "orig_nbformat": 4
 },
 "nbformat": 4,
 "nbformat_minor": 2
}
