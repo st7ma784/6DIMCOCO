{
 "cells": [
  {
   "cell_type": "code",
   "execution_count": null,
   "metadata": {},
   "outputs": [],
   "source": []
  },
  {
   "attachments": {},
   "cell_type": "markdown",
   "metadata": {},
   "source": [
    "This notebook analyzes the results of the wandb sweeps. It is used to generate the plots in the paper.\n",
    "\n",
    "## Imports\n"
   ]
  },
  {
   "cell_type": "code",
   "execution_count": 7,
   "metadata": {},
   "outputs": [
    {
     "name": "stdout",
     "output_type": "stream",
     "text": [
      "\\begin{tabular}{llll}\n",
      "\\toprule\n",
      "{} &                                            summary &                                             config &                    name \\\\\n",
      "\\midrule\n",
      "0  &  \\{'maskVal=84': 16020.2314453125, 'token embedd... &  \\{'JSE': 0, 'dir': '/data', 'dims': 6, 'debug':... &            sunny-sun-26 \\\\\n",
      "1  &  \\{'token embeddings furthest tokens': \\{'sha256'... &  \\{'JSE': 0, 'dir': '/data', 'dims': 6, 'debug':... &            deep-oath-25 \\\\\n",
      "2  &  \\{'token embeddings furthest tokens': \\{'nrows':... &  \\{'JSE': 0, 'dir': '/data', 'dims': 6, 'debug':... &           neat-totem-24 \\\\\n",
      "3  &  \\{'proportionmaskVal=258': 0.626849889755249, '... &  \\{'JSE': 0, 'dir': '/data', 'dims': 6, 'debug':... &           fast-music-23 \\\\\n",
      "4  &  \\{'epoch': 1, 'ImProbe': 0.1875659282700422, 'p... &  \\{'JSE': 0, 'dir': '/data', 'dims': 6, 'debug':... &         true-thunder-22 \\\\\n",
      "5  &  \\{'maskVal=20': 32602.302734375, 'maskVal=162':... &  \\{'JSE': 0, 'dir': '/data', 'dims': 6, 'debug':... &             avid-sky-21 \\\\\n",
      "6  &  \\{'token embeddings furthest tokens': \\{'size': ... &  \\{'JSE': 0, 'dir': '/data', 'dims': 6, 'debug':... &      dazzling-durian-20 \\\\\n",
      "7  &  \\{'\\_timestamp': 1702395287.974545, 'token embed... &  \\{'JSE': 0, 'dir': '/data', 'dims': 6, 'debug':... &            wise-surf-19 \\\\\n",
      "8  &  \\{'\\_step': 3, '\\_wandb': \\{'runtime': 86\\}, '\\_runt... &  \\{'JSE': 0, 'dir': '/data', 'dims': 6, 'debug':... &       morning-valley-18 \\\\\n",
      "9  &  \\{'proportionmaskVal=258': 2.0623698234558105, ... &  \\{'JSE': 0, 'dir': '/data', 'dims': 6, 'debug':... &  treasured-firebrand-17 \\\\\n",
      "10 &  \\{'maskVal=1296': 4839.84375, 'val\\_loss-stock':... &  \\{'JSE': 0, 'dir': '/data', 'dims': 6, 'debug':... &     vocal-wildflower-16 \\\\\n",
      "11 &  \\{'maskVal=272': 4719.41015625, 'maskVal=1296':... &  \\{'JSE': 0, 'dir': '/data', 'dims': 6, 'debug':... &          icy-terrain-15 \\\\\n",
      "12 &  \\{'\\_wandb': \\{'runtime': 25063\\}, 'first logit': ... &  \\{'JSE': 0, 'dir': '/data', 'dims': 6, 'debug':... &         autumn-frost-14 \\\\\n",
      "13 &  \\{'val\\_loss-stock': 1.5356889963150024, 'mean v... &  \\{'JSE': 0, 'dir': '/data', 'dims': 6, 'debug':... &      worthy-elevator-13 \\\\\n",
      "14 &  \\{'logit scale': 16.881460189819336, 'maskVal=1... &  \\{'JSE': 0, 'dir': '/data', 'dims': 6, 'debug':... &           clear-lake-12 \\\\\n",
      "15 &  \\{'proportionmaskVal=626': 0.3000582754611969, ... &  \\{'JSE': 0, 'dir': '/data', 'dims': 6, 'debug':... &         robust-blaze-11 \\\\\n",
      "16 &                        \\{'\\_wandb': \\{'runtime': 82\\}\\} &  \\{'JSE': 0, 'dir': '/data', 'dims': 6, 'debug':... &       curious-puddle-10 \\\\\n",
      "17 &  \\{'proportionmaskVal=48': 1.0051367282867432, '... &  \\{'JSE': 0, 'dir': '/data', 'dims': 6, 'debug':... &         good-darkness-9 \\\\\n",
      "18 &  \\{'meanloss': 3319.580322265625, 'BAD logit': -... &  \\{'JSE': 0, 'dir': '/data', 'dims': 6, 'debug':... &           rare-breeze-8 \\\\\n",
      "19 &  \\{'Mean Projection Value': -0.00097600626759231... &  \\{'JSE': 0, 'dir': '/data', 'dims': 6, 'debug':... &           pious-music-7 \\\\\n",
      "20 &  \\{'ImProbe': 0.1875659282700422, 'meanloss': 21... &  \\{'JSE': 0, 'dir': '/data', 'dims': 6, 'debug':... &            olive-frog-6 \\\\\n",
      "21 &  \\{'maskVal=6': 54.23439407348633, 'logit scale'... &  \\{'JSE': 0, 'dir': '/data', 'dims': 6, 'debug':... &             true-snow-5 \\\\\n",
      "22 &  \\{'TProbe': 0.1875659282700422, 'logit scale': ... &  \\{'JSE': 0, 'dir': '/data', 'dims': 6, 'debug':... &            fluent-eon-4 \\\\\n",
      "23 &  \\{'\\_timestamp': 1701827767.2272243, 'maskVal=84... &  \\{'JSE': 0, 'dir': '/data', 'dims': 6, 'debug':... &            icy-flower-3 \\\\\n",
      "24 &  \\{'maskVal=20': 'NaN', 'maskVal=84': 'NaN', 'ma... &  \\{'JSE': 0, 'dir': '/data', 'dims': 6, 'debug':... &         magic-thunder-2 \\\\\n",
      "25 &  \\{'\\_step': 3, '\\_wandb': \\{'runtime': 59\\}, '\\_runt... &  \\{'JSE': 0, 'dir': '/data', 'dims': 6, 'debug':... &        polished-voice-1 \\\\\n",
      "\\bottomrule\n",
      "\\end{tabular}\n",
      "\n"
     ]
    },
    {
     "name": "stderr",
     "output_type": "stream",
     "text": [
      "/tmp/ipykernel_15481/1668337162.py:56: FutureWarning: In future versions `DataFrame.to_latex` is expected to utilise the base implementation of `Styler.to_latex` for formatting and rendering. The arguments signature may therefore change. It is recommended instead to use `DataFrame.style.to_latex` which also contains additional functionality.\n",
      "  print(runs_df.to_latex())\n"
     ]
    }
   ],
   "source": [
    "import wandb\n",
    "import pandas as pd\n",
    "import numpy as np\n",
    "import matplotlib.pyplot as plt\n",
    "import seaborn as sns\n",
    "import torch\n",
    "\n",
    "# wandb.init(project=\"6DimCachespliteinSweep\", entity=\"st7ma784\")\n",
    "entity, project = \"st7ma784\", \"6DIMCLIPTOKSweepvfinal6.0DIM\"  # set to your entity and project \n",
    "\n",
    "api = wandb.Api()\n",
    "runs = api.runs(entity + \"/\" + project) \n",
    "\n",
    "# runs = runs.filter(\"config.learning_rate = 0.0005\")\n",
    "# runs = runs.filter(\"config.batch_size = 10\")\n",
    "# runs = runs.filter(\"config.precision = 32\")\n",
    "# runs = runs.filter(\"config.maskLosses = 0\")\n",
    "# runs = runs.filter(\"config.embed_dim = 512\")\n",
    "# runs = runs.filter(\"config.transformer_width = 512\")\n",
    "# runs = runs.filter(\"config.transformer_heads = 16\")\n",
    "# runs = runs.filter(\"config.transformer_layers = 24\")\n",
    "# runs = runs.filter(\"config.prune = False\")\n",
    "# runs = runs.filter(\"config.meanloss = True\")\n",
    "\n",
    "# runs = runs.filter(\"config.logitsversion = 0\")\n",
    "# runs = runs.filter(\"config.projection = ''\")\n",
    "\n",
    "# runs = runs.filter(\"state = finished\")\n",
    "# print(\"found\",len(runs),\"runs\")\n",
    "\n",
    "\n",
    "\n",
    "summary_list, config_list, name_list = [], [], []\n",
    "for run in runs: \n",
    "    # .summary contains the output keys/values for metrics like accuracy.\n",
    "    #  We call ._json_dict to omit large files \n",
    "    summary=run.summary._json_dict\n",
    "    #filter to just the keys of \n",
    "    key_set=set([\"improbe\",\"textprobe\",\"train_loss\",\"val_loss\",\"first_logit\"])\n",
    "    summary={k:summary[k] for k in key_set if k in summary}\n",
    "    summary_list.append(summary)\n",
    "\n",
    "    # .config contains the hyperparameters.\n",
    "    #  We remove special values that start with _.\n",
    "    config_list.append(\n",
    "        {k: v for k,v in run.config.items()\n",
    "         if not k.startswith('_')})\n",
    "\n",
    "    # .name is the human-readable name of the run.\n",
    "    name_list.append(run.name)\n",
    "\n",
    "runs_df = pd.DataFrame({\n",
    "    \"summary\": summary_list,\n",
    "    \"config\": config_list,\n",
    "    \"name\": name_list\n",
    "    })\n",
    "#show the dataframe\n",
    "\n",
    "print(runs_df.to_latex())\n",
    "\n"
   ]
  }
 ],
 "metadata": {
  "kernelspec": {
   "display_name": "open-ce",
   "language": "python",
   "name": "python3"
  },
  "language_info": {
   "codemirror_mode": {
    "name": "ipython",
    "version": 3
   },
   "file_extension": ".py",
   "mimetype": "text/x-python",
   "name": "python",
   "nbconvert_exporter": "python",
   "pygments_lexer": "ipython3",
   "version": "3.9.16"
  },
  "orig_nbformat": 4
 },
 "nbformat": 4,
 "nbformat_minor": 2
}
