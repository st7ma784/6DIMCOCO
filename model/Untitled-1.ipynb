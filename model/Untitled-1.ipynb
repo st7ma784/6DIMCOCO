{
 "cells": [
  {
   "cell_type": "code",
   "execution_count": 15,
   "metadata": {},
   "outputs": [
    {
     "name": "stdout",
     "output_type": "stream",
     "text": [
      "1\n",
      "2\n",
      "3\n",
      "5\n",
      "7\n",
      "11\n",
      "15\n",
      "22\n",
      "30\n",
      "42\n",
      "56\n",
      "77\n"
     ]
    }
   ],
   "source": [
    "#a function to create a list of all combinations of positive integers that add to a total\n",
    "import torch\n",
    "def combinations(total):\n",
    "    #create a list of all combinations of positive integers that add to a total\n",
    "    #total is an integer\n",
    "    #return a list of lists\n",
    "    #example: combinations(4) returns [[1,1,1,1],[1,1,2],[1,3],[2,2],[4]]\n",
    "    #example: combinations(5) returns [[1,1,1,1,1],[1,1,1,2],[1,1,3],[1,2,2],[1,4],[2,3],[5]]\n",
    "    #example: combinations(6) returns [[1,1,1,1,1,1],[1,1,1,1,2],[1,1,1,3],[1,1,2,2],[1,1,4],[1,2,3],[1,5],[2,2,2],[2,4],[3,3],[6]]\n",
    "    output=[]\n",
    "    for i in range(1,total+1):\n",
    "        if i==total:\n",
    "            output.append([total])\n",
    "        else:\n",
    "            for j in combinations(total-i):\n",
    "                output.append([i]+j)\n",
    "    return output\n",
    "for N in range(1,13):\n",
    "    combinat=combinations(N)\n",
    "    masks=set([torch.sum(torch.tensor(item).pow(7)).item() for item in combinat])\n",
    "    print(len(masks))"
   ]
  },
  {
   "cell_type": "code",
   "execution_count": null,
   "metadata": {},
   "outputs": [],
   "source": []
  }
 ],
 "metadata": {
  "kernelspec": {
   "display_name": "open-ce",
   "language": "python",
   "name": "python3"
  },
  "language_info": {
   "codemirror_mode": {
    "name": "ipython",
    "version": 3
   },
   "file_extension": ".py",
   "mimetype": "text/x-python",
   "name": "python",
   "nbconvert_exporter": "python",
   "pygments_lexer": "ipython3",
   "version": "3.9.13"
  },
  "orig_nbformat": 4
 },
 "nbformat": 4,
 "nbformat_minor": 2
}
